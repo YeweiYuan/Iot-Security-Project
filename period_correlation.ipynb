{
  "nbformat": 4,
  "nbformat_minor": 0,
  "metadata": {
    "colab": {
      "name": "period_correlation.ipynb",
      "provenance": [],
      "collapsed_sections": []
    },
    "kernelspec": {
      "name": "python3",
      "display_name": "Python 3"
    }
  },
  "cells": [
    {
      "cell_type": "code",
      "metadata": {
        "id": "pMNEIAmJ4nv7",
        "colab_type": "code",
        "colab": {
          "base_uri": "https://localhost:8080/",
          "height": 126
        },
        "outputId": "c3d0a2aa-1133-4bff-f4ac-df4dee1c33f2"
      },
      "source": [
        "from google.colab import drive\n",
        "drive.mount(\"/content/drive\")"
      ],
      "execution_count": 4,
      "outputs": [
        {
          "output_type": "stream",
          "text": [
            "Go to this URL in a browser: https://accounts.google.com/o/oauth2/auth?client_id=947318989803-6bn6qk8qdgf4n4g3pfee6491hc0brc4i.apps.googleusercontent.com&redirect_uri=urn%3aietf%3awg%3aoauth%3a2.0%3aoob&response_type=code&scope=email%20https%3a%2f%2fwww.googleapis.com%2fauth%2fdocs.test%20https%3a%2f%2fwww.googleapis.com%2fauth%2fdrive%20https%3a%2f%2fwww.googleapis.com%2fauth%2fdrive.photos.readonly%20https%3a%2f%2fwww.googleapis.com%2fauth%2fpeopleapi.readonly\n",
            "\n",
            "Enter your authorization code:\n",
            "··········\n",
            "Mounted at /content/drive\n"
          ],
          "name": "stdout"
        }
      ]
    },
    {
      "cell_type": "markdown",
      "metadata": {
        "id": "FwEnfmNSqn7Y",
        "colab_type": "text"
      },
      "source": [
        "# **1.File reading**"
      ]
    },
    {
      "cell_type": "code",
      "metadata": {
        "id": "2n4xhG_z_aOg",
        "colab_type": "code",
        "colab": {}
      },
      "source": [
        "import pandas as pd\n",
        "dataPath = \"/content/drive/My Drive/Colab Notebooks/Final/data/LINUX/CAMONLY\"\n",
        "dataName = \"/CAMONLY1.csv\""
      ],
      "execution_count": 5,
      "outputs": []
    },
    {
      "cell_type": "code",
      "metadata": {
        "id": "c9gS4n_bBSvr",
        "colab_type": "code",
        "colab": {
          "base_uri": "https://localhost:8080/",
          "height": 194
        },
        "outputId": "eb08df13-8692-400f-b79b-fecae57ded19"
      },
      "source": [
        "cap = pd.read_csv(dataPath+dataName)\n",
        "cap.head(5)"
      ],
      "execution_count": 6,
      "outputs": [
        {
          "output_type": "execute_result",
          "data": {
            "text/html": [
              "<div>\n",
              "<style scoped>\n",
              "    .dataframe tbody tr th:only-of-type {\n",
              "        vertical-align: middle;\n",
              "    }\n",
              "\n",
              "    .dataframe tbody tr th {\n",
              "        vertical-align: top;\n",
              "    }\n",
              "\n",
              "    .dataframe thead th {\n",
              "        text-align: right;\n",
              "    }\n",
              "</style>\n",
              "<table border=\"1\" class=\"dataframe\">\n",
              "  <thead>\n",
              "    <tr style=\"text-align: right;\">\n",
              "      <th></th>\n",
              "      <th>No.</th>\n",
              "      <th>Time</th>\n",
              "      <th>Source</th>\n",
              "      <th>Destination</th>\n",
              "      <th>Protocol</th>\n",
              "      <th>Length</th>\n",
              "      <th>Info</th>\n",
              "    </tr>\n",
              "  </thead>\n",
              "  <tbody>\n",
              "    <tr>\n",
              "      <th>0</th>\n",
              "      <td>1</td>\n",
              "      <td>0.000000</td>\n",
              "      <td>10.42.0.22</td>\n",
              "      <td>47.93.129.21</td>\n",
              "      <td>UDP</td>\n",
              "      <td>46</td>\n",
              "      <td>38849  &gt;  32100 Len=4</td>\n",
              "    </tr>\n",
              "    <tr>\n",
              "      <th>1</th>\n",
              "      <td>2</td>\n",
              "      <td>0.000726</td>\n",
              "      <td>10.42.0.22</td>\n",
              "      <td>47.52.252.114</td>\n",
              "      <td>UDP</td>\n",
              "      <td>46</td>\n",
              "      <td>38849  &gt;  32100 Len=4</td>\n",
              "    </tr>\n",
              "    <tr>\n",
              "      <th>2</th>\n",
              "      <td>3</td>\n",
              "      <td>0.001379</td>\n",
              "      <td>10.42.0.22</td>\n",
              "      <td>47.254.36.28</td>\n",
              "      <td>UDP</td>\n",
              "      <td>46</td>\n",
              "      <td>38849  &gt;  32100 Len=4</td>\n",
              "    </tr>\n",
              "    <tr>\n",
              "      <th>3</th>\n",
              "      <td>4</td>\n",
              "      <td>0.002083</td>\n",
              "      <td>10.42.0.22</td>\n",
              "      <td>47.93.129.21</td>\n",
              "      <td>UDP</td>\n",
              "      <td>86</td>\n",
              "      <td>38849  &gt;  32100 Len=44</td>\n",
              "    </tr>\n",
              "    <tr>\n",
              "      <th>4</th>\n",
              "      <td>5</td>\n",
              "      <td>0.002758</td>\n",
              "      <td>10.42.0.22</td>\n",
              "      <td>47.52.252.114</td>\n",
              "      <td>UDP</td>\n",
              "      <td>86</td>\n",
              "      <td>38849  &gt;  32100 Len=44</td>\n",
              "    </tr>\n",
              "  </tbody>\n",
              "</table>\n",
              "</div>"
            ],
            "text/plain": [
              "   No.      Time      Source  ... Protocol Length                    Info\n",
              "0    1  0.000000  10.42.0.22  ...      UDP     46   38849  >  32100 Len=4\n",
              "1    2  0.000726  10.42.0.22  ...      UDP     46   38849  >  32100 Len=4\n",
              "2    3  0.001379  10.42.0.22  ...      UDP     46   38849  >  32100 Len=4\n",
              "3    4  0.002083  10.42.0.22  ...      UDP     86  38849  >  32100 Len=44\n",
              "4    5  0.002758  10.42.0.22  ...      UDP     86  38849  >  32100 Len=44\n",
              "\n",
              "[5 rows x 7 columns]"
            ]
          },
          "metadata": {
            "tags": []
          },
          "execution_count": 6
        }
      ]
    },
    {
      "cell_type": "markdown",
      "metadata": {
        "id": "dqs1asImqy5B",
        "colab_type": "text"
      },
      "source": [
        "# **2.Summary and Plot**"
      ]
    },
    {
      "cell_type": "code",
      "metadata": {
        "id": "xaLHVaNvbA5F",
        "colab_type": "code",
        "colab": {
          "base_uri": "https://localhost:8080/",
          "height": 301
        },
        "outputId": "1c0aaecb-c90d-43c2-a6d1-d5b4d42f6df6"
      },
      "source": [
        "import seaborn as sns\n",
        "import matplotlib.pyplot as plt\n",
        "length = cap.groupby(\"Length\").count()\n",
        "print(length)"
      ],
      "execution_count": 31,
      "outputs": [
        {
          "output_type": "stream",
          "text": [
            "         No.  Time  Source  Destination  Protocol  Info\n",
            "Length                                                 \n",
            "42      1480  1480    1480         1480      1480  1480\n",
            "46      1393  1393    1393         1393      1393  1393\n",
            "50      1132  1132    1132         1132      1132  1132\n",
            "54        37    37      37           37        37    37\n",
            "60        22    22      22           22        22    22\n",
            "62      2248  2248    2248         2248      2248  2248\n",
            "66      1209  1209    1209         1209      1209  1209\n",
            "70         7     7       7            7         7     7\n",
            "74       219   219     219          219       219   219\n",
            "78       216   216     216          216       216   216\n",
            "86      1182  1182    1182         1182      1182  1182\n",
            "90       118   118     118          118       118   118\n",
            "329       11    11      11           11        11    11\n",
            "342       11    11      11           11        11    11\n"
          ],
          "name": "stdout"
        }
      ]
    },
    {
      "cell_type": "code",
      "metadata": {
        "id": "N512bCvhiGiQ",
        "colab_type": "code",
        "colab": {
          "base_uri": "https://localhost:8080/",
          "height": 297
        },
        "outputId": "c4af5ba7-6f84-45db-a373-8c7f918c6cbc"
      },
      "source": [
        "sns.barplot(x=length.index, y=\"No.\", data=length)"
      ],
      "execution_count": 36,
      "outputs": [
        {
          "output_type": "execute_result",
          "data": {
            "text/plain": [
              "<matplotlib.axes._subplots.AxesSubplot at 0x7f1b803dca58>"
            ]
          },
          "metadata": {
            "tags": []
          },
          "execution_count": 36
        },
        {
          "output_type": "display_data",
          "data": {
            "image/png": "[encoded data removed]",
            "text/plain": [
              "<Figure size 432x288 with 1 Axes>"
            ]
          },
          "metadata": {
            "tags": [],
            "needs_background": "light"
          }
        }
      ]
    },
    {
      "cell_type": "code",
      "metadata": {
        "id": "C51vfUH4kSGc",
        "colab_type": "code",
        "colab": {
          "base_uri": "https://localhost:8080/",
          "height": 283
        },
        "outputId": "bff927f2-0cfe-407e-8f4b-2847c289b816"
      },
      "source": [
        "sns.boxplot(data=cap[cap[\"Length\"]<100][\"Length\"])"
      ],
      "execution_count": 116,
      "outputs": [
        {
          "output_type": "execute_result",
          "data": {
            "text/plain": [
              "<matplotlib.axes._subplots.AxesSubplot at 0x7f1b7b0fdf28>"
            ]
          },
          "metadata": {
            "tags": []
          },
          "execution_count": 116
        },
        {
          "output_type": "display_data",
          "data": {
            "image/png": "[encoded data removed]",
            "text/plain": [
              "<Figure size 432x288 with 1 Axes>"
            ]
          },
          "metadata": {
            "tags": [],
            "needs_background": "light"
          }
        }
      ]
    },
    {
      "cell_type": "code",
      "metadata": {
        "id": "y4Ic8liRCQnE",
        "colab_type": "code",
        "colab": {}
      },
      "source": [
        "def iog(cap):\n",
        "  time = []\n",
        "  ind = 0\n",
        "  cnt = 0\n",
        "  t = 0\n",
        "  while ind<len(cap):\n",
        "    while ind<len(cap) and cap[\"Time\"][ind]<t+1:\n",
        "      cnt += 1\n",
        "      ind += 1\n",
        "    time.append(cnt)\n",
        "    cnt = 0\n",
        "    t += 1\n",
        "  time = pd.Series(time)\n",
        "  return time"
      ],
      "execution_count": 13,
      "outputs": []
    },
    {
      "cell_type": "code",
      "metadata": {
        "id": "jqv6g7-YUF4u",
        "colab_type": "code",
        "colab": {
          "base_uri": "https://localhost:8080/",
          "height": 283
        },
        "outputId": "b3cc4cd5-6ec9-43b5-a874-71a7a981ffe2"
      },
      "source": [
        "time = iog(cap)\n",
        "import matplotlib.pyplot as plt\n",
        "time.plot()"
      ],
      "execution_count": 6,
      "outputs": [
        {
          "output_type": "execute_result",
          "data": {
            "text/plain": [
              "<matplotlib.axes._subplots.AxesSubplot at 0x7f1b9e63bfd0>"
            ]
          },
          "metadata": {
            "tags": []
          },
          "execution_count": 6
        },
        {
          "output_type": "display_data",
          "data": {
            "image/png": "[encoded data removed]",
            "text/plain": [
              "<Figure size 432x288 with 1 Axes>"
            ]
          },
          "metadata": {
            "tags": [],
            "needs_background": "light"
          }
        }
      ]
    },
    {
      "cell_type": "markdown",
      "metadata": {
        "id": "eDZcQBk3q3e-",
        "colab_type": "text"
      },
      "source": [
        "# **3.Period Check**"
      ]
    },
    {
      "cell_type": "code",
      "metadata": {
        "id": "S68J15fCxP89",
        "colab_type": "code",
        "colab": {
          "base_uri": "https://localhost:8080/",
          "height": 212
        },
        "outputId": "9776e523-886f-4f90-bf40-80bad92e929d"
      },
      "source": [
        "!pip install dtw"
      ],
      "execution_count": 40,
      "outputs": [
        {
          "output_type": "stream",
          "text": [
            "Collecting dtw\n",
            "  Downloading https://files.pythonhosted.org/packages/66/a0/21d6ec377b8d5832218700e236205f8cdea38b3b2cdd0a732be170e2809b/dtw-1.4.0.tar.gz\n",
            "Requirement already satisfied: numpy in /usr/local/lib/python3.6/dist-packages (from dtw) (1.18.5)\n",
            "Requirement already satisfied: scipy in /usr/local/lib/python3.6/dist-packages (from dtw) (1.4.1)\n",
            "Building wheels for collected packages: dtw\n",
            "  Building wheel for dtw (setup.py) ... \u001b[?25l\u001b[?25hdone\n",
            "  Created wheel for dtw: filename=dtw-1.4.0-cp36-none-any.whl size=5315 sha256=3e0d52a859416eb955087239b7c5c501bb577ca463bff2c550dd50a7099ee199\n",
            "  Stored in directory: /root/.cache/pip/wheels/8c/8b/7a/947d67b53cd54948890a173527b0470ef56998812fc9d0a803\n",
            "Successfully built dtw\n",
            "Installing collected packages: dtw\n",
            "Successfully installed dtw-1.4.0\n"
          ],
          "name": "stdout"
        }
      ]
    },
    {
      "cell_type": "code",
      "metadata": {
        "id": "oJ2fRp3CSY40",
        "colab_type": "code",
        "colab": {}
      },
      "source": [
        "from dtw import dtw\n",
        "import numpy as np\n",
        "def prdCheck(s, T=60):\n",
        "  ss = []\n",
        "  for i in range(int(len(s)/T)):\n",
        "    ss.append(list(s[T*i:T*i+T]))\n",
        "  dists = []\n",
        "  sumDist = 0\n",
        "  for i in range(len(ss)-1):\n",
        "    dist,cost,acc,path = dtw(ss[i], ss[i+1], dist=lambda x,y: abs(x-y))\n",
        "    dists.append(dist)\n",
        "    sumDist += dist\n",
        "  return dists, sumDist"
      ],
      "execution_count": 106,
      "outputs": []
    },
    {
      "cell_type": "code",
      "metadata": {
        "id": "-S_TXmXFygrc",
        "colab_type": "code",
        "colab": {}
      },
      "source": [
        "pScores = []\n",
        "for i in range(50, 70):\n",
        "  dists, sumDist = prdCheck(time, i)\n",
        "  pScores.append(sumDist)"
      ],
      "execution_count": null,
      "outputs": []
    },
    {
      "cell_type": "code",
      "metadata": {
        "id": "N7rZjfmx4Vmt",
        "colab_type": "code",
        "colab": {
          "base_uri": "https://localhost:8080/",
          "height": 283
        },
        "outputId": "e4f8bc1a-ff74-4664-8dc8-cb270a4d7aea"
      },
      "source": [
        "plt.plot(range(50, 70), pScores, \"*-\")"
      ],
      "execution_count": 113,
      "outputs": [
        {
          "output_type": "execute_result",
          "data": {
            "text/plain": [
              "[<matplotlib.lines.Line2D at 0x7f1b7b16f1d0>]"
            ]
          },
          "metadata": {
            "tags": []
          },
          "execution_count": 113
        },
        {
          "output_type": "display_data",
          "data": {
            "image/png": "[encoded data removed]",
            "text/plain": [
              "<Figure size 432x288 with 1 Axes>"
            ]
          },
          "metadata": {
            "tags": [],
            "needs_background": "light"
          }
        }
      ]
    },
    {
      "cell_type": "markdown",
      "metadata": {
        "id": "iyi8jS6Rq9tY",
        "colab_type": "text"
      },
      "source": [
        "# **4.Correlation between arp and udp**"
      ]
    },
    {
      "cell_type": "code",
      "metadata": {
        "id": "uGJRjPpZyyCr",
        "colab_type": "code",
        "colab": {}
      },
      "source": [
        "arps = cap[cap[\"Protocol\"] == \"ARP\"].reset_index(drop=True)\n",
        "udps = cap[cap[\"Protocol\"] == \"UDP\"].reset_index(drop=True)"
      ],
      "execution_count": 23,
      "outputs": []
    },
    {
      "cell_type": "code",
      "metadata": {
        "id": "_-cGBJQNww0P",
        "colab_type": "code",
        "colab": {}
      },
      "source": [
        "arptime = iog(arps)\n",
        "udptime = iog(udps)"
      ],
      "execution_count": 24,
      "outputs": []
    },
    {
      "cell_type": "code",
      "metadata": {
        "id": "5eTSGLrW1IUT",
        "colab_type": "code",
        "colab": {
          "base_uri": "https://localhost:8080/",
          "height": 283
        },
        "outputId": "fadcddf5-7949-47b0-dfc6-8c72a7ea35dc"
      },
      "source": [
        "import matplotlib.pyplot as plt\n",
        "plt.subplot(211)\n",
        "plt.plot(arptime)\n",
        "plt.subplot(212)\n",
        "plt.plot(udptime)"
      ],
      "execution_count": 25,
      "outputs": [
        {
          "output_type": "execute_result",
          "data": {
            "text/plain": [
              "[<matplotlib.lines.Line2D at 0x7f7aab5317b8>]"
            ]
          },
          "metadata": {
            "tags": []
          },
          "execution_count": 25
        },
        {
          "output_type": "display_data",
          "data": {
            "image/png": "[encoded data removed]",
            "text/plain": [
              "<Figure size 432x288 with 2 Axes>"
            ]
          },
          "metadata": {
            "tags": [],
            "needs_background": "light"
          }
        }
      ]
    },
    {
      "cell_type": "code",
      "metadata": {
        "id": "rFpX6VL-0XlW",
        "colab_type": "code",
        "colab": {}
      },
      "source": [
        ""
      ],
      "execution_count": null,
      "outputs": []
    }
  ]
}